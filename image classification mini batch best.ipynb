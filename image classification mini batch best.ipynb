{
 "cells": [
  {
   "cell_type": "code",
   "execution_count": 2,
   "metadata": {},
   "outputs": [],
   "source": [
    "import pickle, gzip\n",
    "import numpy as np\n",
    "\n",
    "# Load the dataset\n",
    "f = gzip.open('C:\\\\Users\\\\kshitij\\\\Desktop\\\\coursera asg\\\\datasets\\\\mnist.pkl.gz', 'rb')\n",
    "train_set, valid_set, test_set = pickle.load(f,encoding='latin1')\n",
    "f.close()"
   ]
  },
  {
   "cell_type": "code",
   "execution_count": 3,
   "metadata": {},
   "outputs": [
    {
     "name": "stdout",
     "output_type": "stream",
     "text": [
      "(50000, 784)\n"
     ]
    }
   ],
   "source": [
    "x, y = train_set\n",
    "print(x.shape)"
   ]
  },
  {
   "cell_type": "code",
   "execution_count": 39,
   "metadata": {},
   "outputs": [
    {
     "name": "stdout",
     "output_type": "stream",
     "text": [
      "[[7 2 1 ... 4 5 6]]\n",
      "[[0. 0. 0. ... 0. 0. 0.]\n",
      " [0. 0. 1. ... 0. 0. 0.]\n",
      " [0. 1. 0. ... 0. 0. 0.]\n",
      " ...\n",
      " [1. 0. 0. ... 0. 0. 0.]\n",
      " [0. 0. 0. ... 0. 0. 0.]\n",
      " [0. 0. 0. ... 0. 0. 0.]]\n"
     ]
    }
   ],
   "source": [
    "xtest, ytest = test_set\n",
    "Xtest = xtest.T\n",
    "ytest = ytest.reshape(1,10000)\n",
    "n = Xtest.shape[1]\n",
    "Ytest = np.zeros((10,n))\n",
    "for i in range(n):\n",
    "    Ytest[int(ytest[0,i]),i]=1\n",
    "print(ytest)\n",
    "print(Ytest)"
   ]
  },
  {
   "cell_type": "code",
   "execution_count": 4,
   "metadata": {},
   "outputs": [],
   "source": [
    "X = x.T"
   ]
  },
  {
   "cell_type": "code",
   "execution_count": 5,
   "metadata": {},
   "outputs": [],
   "source": [
    "y=y.reshape(1,50000)"
   ]
  },
  {
   "cell_type": "code",
   "execution_count": 6,
   "metadata": {},
   "outputs": [
    {
     "name": "stdout",
     "output_type": "stream",
     "text": [
      "(784, 50000)\n"
     ]
    }
   ],
   "source": [
    "print(X.shape)"
   ]
  },
  {
   "cell_type": "code",
   "execution_count": 7,
   "metadata": {},
   "outputs": [],
   "source": [
    "m=X.shape[1]\n"
   ]
  },
  {
   "cell_type": "code",
   "execution_count": 8,
   "metadata": {},
   "outputs": [],
   "source": [
    "Y = np.zeros((10,m))\n",
    "for i in range(m):\n",
    "    Y[int(y[0,i]),i]=1"
   ]
  },
  {
   "cell_type": "code",
   "execution_count": 9,
   "metadata": {},
   "outputs": [],
   "source": [
    "def initialize_parameters(dims):\n",
    "    parameters={}\n",
    "    l = len(dims)\n",
    "    for i in range(1,l):\n",
    "        parameters['W'+str(i)] = np.random.randn(dims[i],dims[i-1])*0.01\n",
    "        parameters['b'+str(i)] = np.zeros((dims[i],1))\n",
    "    return parameters"
   ]
  },
  {
   "cell_type": "code",
   "execution_count": 10,
   "metadata": {},
   "outputs": [],
   "source": [
    "def relu(Z):\n",
    "    x = np.maximum(0,Z)\n",
    "    return x"
   ]
  },
  {
   "cell_type": "code",
   "execution_count": 11,
   "metadata": {},
   "outputs": [],
   "source": [
    "def softmax(x):\n",
    "    \"\"\"Compute softmax values for each sets of scores in x.\"\"\"\n",
    "    e_x = np.exp(x - np.max(x))\n",
    "    return e_x/np.sum(e_x, axis=0, keepdims=True)"
   ]
  },
  {
   "cell_type": "code",
   "execution_count": 12,
   "metadata": {},
   "outputs": [],
   "source": [
    "def forward_propagation(X, parameters):\n",
    "    cache = {}\n",
    "    l = len(parameters)//2\n",
    "    cache['A0'] = X\n",
    "    for i in range(1,l+1):\n",
    "        cache['Z'+str(i)] = np.dot(parameters['W'+str(i)],cache['A'+str(i-1)]) + parameters['b'+str(i)]\n",
    "        \n",
    "        cache['A'+str(i)] = relu(cache['Z'+str(i)])\n",
    "        \n",
    "    cache['A'+str(l)] = softmax(cache['Z'+str(l)])\n",
    "            \n",
    "    return cache"
   ]
  },
  {
   "cell_type": "code",
   "execution_count": 13,
   "metadata": {},
   "outputs": [],
   "source": [
    "def compute_cost(AL,Y):\n",
    "    m = Y.shape[1]\n",
    "    cost = -1*np.sum(Y*np.log(AL+0.0001))/m\n",
    "    return cost"
   ]
  },
  {
   "cell_type": "code",
   "execution_count": 14,
   "metadata": {},
   "outputs": [],
   "source": [
    "def backRelu(Z):\n",
    "    c = (Z + np.abs(Z))/(2*np.abs(Z))\n",
    "    return c"
   ]
  },
  {
   "cell_type": "code",
   "execution_count": 15,
   "metadata": {},
   "outputs": [],
   "source": [
    "def back_propagation(X, Y, parameters, cache):\n",
    "    m = Y.shape[1]\n",
    "    l = len(parameters)//2\n",
    "    back_cache = {}\n",
    "    \n",
    "    dZ = cache['A'+str(l)] - Y\n",
    "    back_cache['dW'+str(l)] = (1/m)*np.dot(dZ, cache['A'+str(l-1)].T)\n",
    "    back_cache['db'+str(l)] = (1/m)*np.sum(dZ, axis=1, keepdims = True)\n",
    "    \n",
    "    for i in reversed(range(1,l)):\n",
    "        dZ = np.dot(parameters['W'+str(i+1)].T,dZ)*backRelu(cache['Z'+str(i)])\n",
    "        back_cache['dW'+str(i)] = (1/m)*np.dot(dZ, cache['A'+str(i-1)].T)\n",
    "        back_cache['db'+str(i)] = (1/m)*np.sum(dZ, axis=1, keepdims=True)\n",
    "     \n",
    "    return back_cache"
   ]
  },
  {
   "cell_type": "code",
   "execution_count": 16,
   "metadata": {},
   "outputs": [],
   "source": [
    "def update(paramters, back_cache, lr):\n",
    "    l = len(parameters)//2\n",
    "    for i in range(1,l+1):\n",
    "        parameters['W'+str(i)] -= lr*back_cache['dW'+str(i)]\n",
    "        parameters['b'+str(i)] -= lr*back_cache['db'+str(i)]\n",
    "        \n",
    "    return parameters\n",
    "        "
   ]
  },
  {
   "cell_type": "code",
   "execution_count": 76,
   "metadata": {},
   "outputs": [],
   "source": [
    "parameters = initialize_parameters([784, 500, 100, 10])"
   ]
  },
  {
   "cell_type": "code",
   "execution_count": 77,
   "metadata": {
    "scrolled": true
   },
   "outputs": [
    {
     "name": "stdout",
     "output_type": "stream",
     "text": [
      "0.18546273991904122\n",
      "0.10834453335203417\n",
      "0.0762114730060142\n",
      "0.04392859834626282\n",
      "0.02932663598462521\n",
      "0.028175665150923956\n",
      "0.019035915518081755\n",
      "0.017119801907605058\n",
      "0.007647222624127607\n",
      "0.022080914468939603\n"
     ]
    }
   ],
   "source": [
    "k=0\n",
    "for i in range(10):\n",
    "    k=0\n",
    "    for j in range(500):\n",
    "        cache = forward_propagation(X[:,k:k+100], parameters)\n",
    "        c = compute_cost(cache['A'+str(len([784, 500,100, 10])-1)],Y[:,k:k+100])\n",
    "        \n",
    "        grads = back_propagation(X, Y[:,k:k+100], parameters, cache)\n",
    "\n",
    "        parameters = update(parameters, grads, 0.3)\n",
    "        k+=100\n",
    "        #print('Z3 =',cache['Z3'])\n",
    "    #print(\"A3=\",cache['A3'])\n",
    "    print(c)   \n",
    "    \n"
   ]
  },
  {
   "cell_type": "code",
   "execution_count": 57,
   "metadata": {},
   "outputs": [],
   "source": [
    "A = cache['A3'].T\n"
   ]
  },
  {
   "cell_type": "code",
   "execution_count": 58,
   "metadata": {},
   "outputs": [
    {
     "name": "stdout",
     "output_type": "stream",
     "text": [
      "[6, 8, 1, 0, 4, 5, 7, 2, 2, 7, 6, 2, 3, 3, 2, 6, 2, 2, 7, 1, 4, 7, 5, 7, 0, 9, 3, 1, 5, 2, 6, 6, 1, 7, 4, 5, 2, 4, 3, 0, 4, 1, 4, 1, 9, 9, 3, 8, 3, 0, 5, 2, 0, 0, 0, 3, 9, 5, 7, 6, 6, 1, 2, 8, 1, 6, 3, 4, 3, 6, 6, 0, 1, 9, 0, 2, 2, 6, 7, 4, 7, 3, 4, 9, 9, 3, 7, 0, 9, 0, 8, 5, 5, 2, 4, 5, 0, 8, 4, 8]\n"
     ]
    }
   ],
   "source": [
    "\n",
    "temp = []\n",
    "for row in A:\n",
    "    temp.append(np.argmax(row))\n",
    "print(temp)    "
   ]
  },
  {
   "cell_type": "code",
   "execution_count": 59,
   "metadata": {},
   "outputs": [
    {
     "name": "stdout",
     "output_type": "stream",
     "text": [
      "[[6 8 1 0 9 5 7 2 2 7 6 2 3 3 2 6 2 2 7 1 4 7 5 7 0 9 3 1 5 2 6 6 1 7 4 5\n",
      "  2 4 3 0 4 1 4 1 9 9 3 8 3 0 5 2 0 0 0 3 9 5 7 6 6 1 2 8 1 6 3 4 3 6 6 0\n",
      "  1 9 0 2 2 6 7 4 7 3 4 9 9 3 7 0 9 0 8 5 5 2 4 5 0 8 4 8]]\n"
     ]
    }
   ],
   "source": [
    "cv = y[:,-100:]\n",
    "count=0\n",
    "for i in range(len(temp)):\n",
    "    if temp[i]==cv[0][i]:\n",
    "        count+=1\n",
    "print(cv)"
   ]
  },
  {
   "cell_type": "code",
   "execution_count": 60,
   "metadata": {},
   "outputs": [
    {
     "name": "stdout",
     "output_type": "stream",
     "text": [
      "0.99\n"
     ]
    }
   ],
   "source": [
    "print(count/100)"
   ]
  },
  {
   "cell_type": "code",
   "execution_count": 97,
   "metadata": {},
   "outputs": [],
   "source": [
    "import pickle\n",
    "f=open('C:\\\\Users\\\\kshitij\\\\Desktop\\\\coursera asg\\\\datasets\\\\miniparameters.pckl','wb')\n",
    "pickle.dump(parameters,f)\n",
    "f.close()"
   ]
  },
  {
   "cell_type": "code",
   "execution_count": 61,
   "metadata": {},
   "outputs": [
    {
     "data": {
      "text/plain": [
       "0.06519127048346732"
      ]
     },
     "execution_count": 61,
     "metadata": {},
     "output_type": "execute_result"
    }
   ],
   "source": [
    "\n",
    "cache = forward_propagation(Xtest[:,0:100], parameters)\n",
    "c = compute_cost(cache['A'+str(len([784, 500,100, 10])-1)],Ytest[:,0:100])\n",
    "c"
   ]
  },
  {
   "cell_type": "code",
   "execution_count": 62,
   "metadata": {},
   "outputs": [
    {
     "name": "stdout",
     "output_type": "stream",
     "text": [
      "0.98\n"
     ]
    }
   ],
   "source": [
    "\n",
    "fg = ytest[0]\n",
    "gf = fg[0:100]\n",
    "Ah = cache['A3'].T\n",
    "\n",
    "temp = []\n",
    "for row in Ah:\n",
    "    temp.append(np.argmax(row))\n",
    "    \n",
    "count = 0\n",
    "for i in range(len(temp)):\n",
    "    if temp[i]==gf[i]:\n",
    "        count+=1\n",
    "\n",
    "print(count/100)"
   ]
  },
  {
   "cell_type": "code",
   "execution_count": 78,
   "metadata": {},
   "outputs": [
    {
     "data": {
      "text/plain": [
       "(10000, 784)"
      ]
     },
     "execution_count": 78,
     "metadata": {},
     "output_type": "execute_result"
    }
   ],
   "source": [
    "xtest.shape"
   ]
  },
  {
   "cell_type": "code",
   "execution_count": 92,
   "metadata": {},
   "outputs": [],
   "source": [
    "lt = 8999\n",
    "t = xtest[lt,0:784]\n",
    "t = t.reshape(784,1)"
   ]
  },
  {
   "cell_type": "code",
   "execution_count": 94,
   "metadata": {},
   "outputs": [
    {
     "name": "stdout",
     "output_type": "stream",
     "text": [
      "[[7 2 1 ... 4 5 6]]\n",
      "0\n",
      "(784, 1)\n"
     ]
    }
   ],
   "source": [
    "print(ytest)\n",
    "ans = ytest[0][lt]\n",
    "print(ans)\n",
    "ansm = np.zeros((10,1))\n",
    "ansm[0,0]=1\n",
    "ansm\n",
    "print(t.shape)"
   ]
  },
  {
   "cell_type": "code",
   "execution_count": 95,
   "metadata": {},
   "outputs": [
    {
     "data": {
      "text/plain": [
       "array([[9.99999907e-01, 4.05433282e-15, 6.25249382e-08, 1.85462735e-13,\n",
       "        4.92705648e-14, 6.96076617e-10, 2.73325805e-08, 3.42842055e-10,\n",
       "        1.01880060e-11, 1.82420431e-09]])"
      ]
     },
     "execution_count": 95,
     "metadata": {},
     "output_type": "execute_result"
    }
   ],
   "source": [
    "\n",
    "cache = forward_propagation(t, parameters)\n",
    "c = compute_cost(cache['A'+str(len([784, 500,100, 10])-1)],ansm)\n",
    "A = cache['A3'].T\n",
    "A"
   ]
  },
  {
   "cell_type": "code",
   "execution_count": 96,
   "metadata": {},
   "outputs": [
    {
     "name": "stdout",
     "output_type": "stream",
     "text": [
      "0\n"
     ]
    }
   ],
   "source": [
    "print(np.argmax(A))"
   ]
  },
  {
   "cell_type": "code",
   "execution_count": null,
   "metadata": {},
   "outputs": [],
   "source": []
  }
 ],
 "metadata": {
  "kernelspec": {
   "display_name": "Python 3",
   "language": "python",
   "name": "python3"
  },
  "language_info": {
   "codemirror_mode": {
    "name": "ipython",
    "version": 3
   },
   "file_extension": ".py",
   "mimetype": "text/x-python",
   "name": "python",
   "nbconvert_exporter": "python",
   "pygments_lexer": "ipython3",
   "version": "3.7.6"
  }
 },
 "nbformat": 4,
 "nbformat_minor": 4
}
